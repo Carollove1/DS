{
 "cells": [
  {
   "cell_type": "markdown",
   "metadata": {
    "deletable": false
   },
   "source": [
    "# [Introduction to Data Science](http://datascience-intro.github.io/1MS041-2023/)    \n",
    "## 1MS041, 2023 \n",
    "&copy;2023 Raazesh Sainudiin, Benny Avelin. [Attribution 4.0 International     (CC BY 4.0)](https://creativecommons.org/licenses/by/4.0/)"
   ]
  },
  {
   "cell_type": "markdown",
   "metadata": {},
   "source": [
    "# Pattern Recognition"
   ]
  },
  {
   "cell_type": "markdown",
   "metadata": {},
   "source": [
    "Traditionally the machine learning started in principle with a single algorithm called the perceptron algorithm. The ideas come from computer science and as such the focus and terminology is different, but let us stick to the terminology used in the book \"Foundations of Data Science\" Chap 5.\n",
    "\n",
    "Let us say that we are trying to device a decision rule based on input data being in $\\mathbb{R}^d$, it could be binary or other. This input could be for instance the words being used in an email, where we have some form of dictionary where each word is represented by a dimension. The simplest form of decision problem is that of a binary decision, like in the case of logistic regression (the decision could be the most likely output). A commonly chosen example is that of email spam classification.\n",
    "\n",
    "> Goal: find a \"simple\" rule that performs well on training data\n",
    "\n",
    "## The perceptron algorithm\n",
    "\n",
    "The perceptron algorithm tries to find a linear separator, i.e. a plane in $\\mathbb{R}$ that separates the two classes. The task is thus to find $w$ and $t$ such that for the training data $S$, the data consists of pairs $(x_i,l_i)$ the $x_i$ represents our features and the $l_i$ our labels or target.\n",
    "\n",
    "$$\n",
    "\\begin{aligned}\n",
    "    w \\cdot x_i > t \\quad \\text{for each $x_i$ labeled $+1$} \\\\\n",
    "    w \\cdot x_i < t \\quad \\text{for each $x_i$ labeled $-1$}\n",
    "\\end{aligned}\n",
    "$$\n",
    "\n",
    "Adding a new coordinate to our space allows us to consider $\\hat x_i = (x_i,1)$ and $\\hat w = (w,t)$, this allows us to rewrite the inequalities above as\n",
    "\n",
    "$$\n",
    "    (\\hat w \\cdot \\hat x_i) l_i > 0.\n",
    "$$\n",
    "\n",
    "### The algorithm\n",
    "1. $w = 0$\n",
    "2. while there exists $x_i$ with $x_i l_i \\cdot w \\leq 0$, update $w := w+x_il_i$"
   ]
  },
  {
   "cell_type": "code",
   "execution_count": 2,
   "metadata": {},
   "outputs": [],
   "source": [
    "import numpy as np\n",
    "\n",
    "def gen_data(n_points=5,sep=1):\n",
    "    np.random.seed(3)\n",
    "    W = np.array([[1,-1],[1,1]])/np.sqrt(2)\n",
    "    rnd_pos_1 = np.random.uniform(0,1,size=(n_points,2))\n",
    "    X1 = (rnd_pos_1 + np.array([-1-sep,0]))@W\n",
    "    rnd_pos_2 = np.random.uniform(0,1,size=(n_points,2))\n",
    "    X2 = (rnd_pos_2 + np.array([+sep,0]))@W\n",
    "    \n",
    "    Xall = np.concatenate([X1,X2],axis=0)\n",
    "    y1 = np.ones(shape=n_points)\n",
    "    y2 = -np.ones(shape=n_points)\n",
    "    yall = np.concatenate([y1,y2])\n",
    "\n",
    "    X = np.concatenate([Xall,np.ones((n_points*2,1))],axis=1)\n",
    "    return X,X1,X2,Xall,yall\n",
    "X, X1, X2, Xall, yall = gen_data(n_points=100,sep=0.05)"
   ]
  },
  {
   "cell_type": "code",
   "execution_count": 3,
   "metadata": {},
   "outputs": [
    {
     "data": {
      "text/plain": [
       "<matplotlib.collections.PathCollection at 0x7fe742ef6260>"
      ]
     },
     "execution_count": 3,
     "metadata": {},
     "output_type": "execute_result"
    },
    {
     "data": {
      "image/png": "[encoded data removed]",
      "text/plain": [
       "<Figure size 800x800 with 1 Axes>"
      ]
     },
     "metadata": {},
     "output_type": "display_data"
    }
   ],
   "source": [
    "%matplotlib inline\n",
    "import matplotlib.pyplot as plt\n",
    "plt.figure(figsize=(8,8))\n",
    "plt.scatter(X1[:,0],X1[:,1], color='red')\n",
    "plt.scatter(X2[:,0],X2[:,1], color='blue')"
   ]
  },
  {
   "cell_type": "code",
   "execution_count": 4,
   "metadata": {},
   "outputs": [
    {
     "data": {
      "application/vnd.jupyter.widget-view+json": {
       "model_id": "4e105fabe3514e6c8cc8524e9116e1f4",
       "version_major": 2,
       "version_minor": 0
      },
      "text/plain": [
       "interactive(children=(IntSlider(value=0, description='n_steps', max=63), Output()), _dom_classes=('widget-inte…"
      ]
     },
     "metadata": {},
     "output_type": "display_data"
    }
   ],
   "source": [
    "from ipywidgets import interact, IntSlider\n",
    "\n",
    "@interact\n",
    "def _(n_steps=IntSlider(0,0,63,1)):\n",
    "    n_points = X.shape[0]   #X.shape代表的是X的行列数，其中第0个元素是行数，第1个元素是列数。所以X.shape[0]是行，X.shape[1]是列\n",
    "    W = np.array([0,0,0])\n",
    "    plt.scatter(X1[:,0],X1[:,1],color='blue')\n",
    "    plt.scatter(X2[:,0],X2[:,1],color='red')\n",
    "    \n",
    "    k = 0\n",
    "    max_iter=10000\n",
    "    j = 0\n",
    "    while ((k < n_steps) and (j < max_iter)):\n",
    "        i = j % n_points\n",
    "        j+=1\n",
    "        if (X[i,:]@W * yall[i] <= 0):\n",
    "            W = W + X[i,:]*yall[i]\n",
    "            plt.scatter(X[i,0],X[i,1],color='yellow')\n",
    "            k+=1\n",
    "    print(W)\n",
    "    \n",
    "    # Plotting the line\n",
    "    x_left = -2\n",
    "    x_right = 2\n",
    "    y_left = 0\n",
    "    y_right = 0\n",
    "    if (W[1] != 0):\n",
    "        y_left = (-W[2] - x_left*W[0])/W[1]\n",
    "        y_right = (-W[2] - x_right*W[0])/W[1]\n",
    "    plt.plot([x_left,x_right],[y_left,y_right])\n",
    "    plt.xlim(-1,2)\n",
    "    plt.ylim(-1,2)\n",
    "    plt.show()"
   ]
  },
  {
   "cell_type": "markdown",
   "metadata": {},
   "source": [
    "### Theorem: Perceptron for linearly separable data\n",
    "> If there exists $w^\\ast$ such that $w^\\ast \\cdot x_i l_i \\geq 1$ for all $i$. Then the perceptron algorithm find a $w$ satisfying $w \\cdot x_i l_i \\geq 0$ for all $i$ in at most $r^2|w^\\ast|^2$ updates, where $r = \\max_i |x_i|$.\n",
    "\n",
    "So this theorem guarantees that if the two classes can be separated then the preceptron will also find a separator in finite time.\n",
    "\n",
    "### Kernels\n",
    "\n",
    "What about non-linearly separable data. Take for instance\n",
    "$$\n",
    "    X = (B_4 \\setminus B_3) \\cup B_1\n",
    "$$\n",
    "and let $c^\\ast = B_1$. We cannot separate these sets using a linear classifier"
   ]
  },
  {
   "cell_type": "code",
   "execution_count": 7,
   "metadata": {},
   "outputs": [
    {
     "data": {
      "text/plain": [
       "<matplotlib.collections.PathCollection at 0x7fe742b11d20>"
      ]
     },
     "execution_count": 7,
     "metadata": {},
     "output_type": "execute_result"
    },
    {
     "data": {
      "image/png": "[encoded data removed]",
      "text/plain": [
       "<Figure size 640x480 with 1 Axes>"
      ]
     },
     "metadata": {},
     "output_type": "display_data"
    }
   ],
   "source": [
    "A = np.random.normal(size=(100,2))\n",
    "A_unit = A/(np.linalg.norm(A,axis=1).reshape(-1,1))\n",
    "radial_A = 3+np.random.uniform(size=(100,1))\n",
    "#P=points(A_unit*radial_A,color='blue')\n",
    "plt.scatter((A_unit*radial_A)[:,0],(A_unit*radial_A)[:,1])\n",
    "\n",
    "B = np.random.normal(size=(100,2))\n",
    "B_unit = B/(np.linalg.norm(B,axis=1).reshape(-1,1))\n",
    "radial_B = np.random.uniform(size=(100,1))\n",
    "plt.scatter((B_unit*radial_B)[:,0],(B_unit*radial_B)[:,1],color='red')"
   ]
  },
  {
   "cell_type": "markdown",
   "metadata": {},
   "source": [
    "we can however separate the following mapping of $X$. Namely in $\\mathbb R^2$ we can do\n",
    "$$\n",
    "    \\phi(x) = (x_1,x_2,x_1^2+x_2^2) \\in \\mathbb R^3\n",
    "$$\n",
    "This is clearly linearly separable as we can see in the following 3d plot"
   ]
  },
  {
   "cell_type": "code",
   "execution_count": 8,
   "metadata": {},
   "outputs": [
    {
     "ename": "KeyError",
     "evalue": "'Utils'",
     "output_type": "error",
     "traceback": [
      "\u001b[0;31m---------------------------------------------------------------------------\u001b[0m",
      "\u001b[0;31mKeyError\u001b[0m                                  Traceback (most recent call last)",
      "Cell \u001b[0;32mIn[8], line 2\u001b[0m\n\u001b[1;32m      1\u001b[0m \u001b[38;5;28;01mimport\u001b[39;00m \u001b[38;5;21;01msys\u001b[39;00m\u001b[38;5;241m,\u001b[39m \u001b[38;5;21;01mimportlib\u001b[39;00m\n\u001b[0;32m----> 2\u001b[0m importlib\u001b[38;5;241m.\u001b[39mreload(\u001b[43msys\u001b[49m\u001b[38;5;241;43m.\u001b[39;49m\u001b[43mmodules\u001b[49m\u001b[43m[\u001b[49m\u001b[38;5;124;43m'\u001b[39;49m\u001b[38;5;124;43mUtils\u001b[39;49m\u001b[38;5;124;43m'\u001b[39;49m\u001b[43m]\u001b[49m)\n",
      "\u001b[0;31mKeyError\u001b[0m: 'Utils'"
     ]
    }
   ],
   "source": [
    "import sys, importlib\n",
    "importlib.reload(sys.modules['Utils'])"
   ]
  },
  {
   "cell_type": "code",
   "execution_count": 9,
   "metadata": {},
   "outputs": [
    {
     "ename": "ModuleNotFoundError",
     "evalue": "No module named 'plotly'",
     "output_type": "error",
     "traceback": [
      "\u001b[0;31m---------------------------------------------------------------------------\u001b[0m",
      "\u001b[0;31mModuleNotFoundError\u001b[0m                       Traceback (most recent call last)",
      "Cell \u001b[0;32mIn[9], line 7\u001b[0m\n\u001b[1;32m      4\u001b[0m B_3d \u001b[38;5;241m=\u001b[39m np\u001b[38;5;241m.\u001b[39mconcatenate([B_2d,np\u001b[38;5;241m.\u001b[39mlinalg\u001b[38;5;241m.\u001b[39mnorm(B_2d,axis\u001b[38;5;241m=\u001b[39m\u001b[38;5;241m1\u001b[39m)\u001b[38;5;241m.\u001b[39mreshape(\u001b[38;5;241m-\u001b[39m\u001b[38;5;241m1\u001b[39m,\u001b[38;5;241m1\u001b[39m)\u001b[38;5;241m*\u001b[39m\u001b[38;5;241m*\u001b[39m\u001b[38;5;241m2\u001b[39m],axis\u001b[38;5;241m=\u001b[39m\u001b[38;5;241m1\u001b[39m)\n\u001b[1;32m      6\u001b[0m \u001b[38;5;28;01mfrom\u001b[39;00m \u001b[38;5;21;01mUtils\u001b[39;00m \u001b[38;5;28;01mimport\u001b[39;00m scatter3d\n\u001b[0;32m----> 7\u001b[0m fig \u001b[38;5;241m=\u001b[39m \u001b[43mscatter3d\u001b[49m\u001b[43m(\u001b[49m\u001b[43mA_3d\u001b[49m\u001b[43m[\u001b[49m\u001b[43m:\u001b[49m\u001b[43m,\u001b[49m\u001b[38;5;241;43m0\u001b[39;49m\u001b[43m]\u001b[49m\u001b[43m,\u001b[49m\u001b[43mA_3d\u001b[49m\u001b[43m[\u001b[49m\u001b[43m:\u001b[49m\u001b[43m,\u001b[49m\u001b[38;5;241;43m1\u001b[39;49m\u001b[43m]\u001b[49m\u001b[43m,\u001b[49m\u001b[43mA_3d\u001b[49m\u001b[43m[\u001b[49m\u001b[43m:\u001b[49m\u001b[43m,\u001b[49m\u001b[38;5;241;43m2\u001b[39;49m\u001b[43m]\u001b[49m\u001b[43m)\u001b[49m\n\u001b[1;32m      8\u001b[0m fig \u001b[38;5;241m=\u001b[39m scatter3d(B_3d[:,\u001b[38;5;241m0\u001b[39m],B_3d[:,\u001b[38;5;241m1\u001b[39m],B_3d[:,\u001b[38;5;241m2\u001b[39m],fig\u001b[38;5;241m=\u001b[39mfig,c\u001b[38;5;241m=\u001b[39m\u001b[38;5;124m'\u001b[39m\u001b[38;5;124mred\u001b[39m\u001b[38;5;124m'\u001b[39m)\n\u001b[1;32m      9\u001b[0m fig\u001b[38;5;241m.\u001b[39mshow()\n",
      "File \u001b[0;32m~/DS/Lectures/Utils.py:161\u001b[0m, in \u001b[0;36mscatter3d\u001b[0;34m(x, y, z, c, size, fig)\u001b[0m\n\u001b[1;32m    160\u001b[0m \u001b[38;5;28;01mdef\u001b[39;00m \u001b[38;5;21mscatter3d\u001b[39m(x,y,z,c\u001b[38;5;241m=\u001b[39m\u001b[38;5;28;01mNone\u001b[39;00m,size\u001b[38;5;241m=\u001b[39m\u001b[38;5;241m2\u001b[39m,fig\u001b[38;5;241m=\u001b[39m\u001b[38;5;28;01mNone\u001b[39;00m):\n\u001b[0;32m--> 161\u001b[0m     \u001b[38;5;28;01mimport\u001b[39;00m \u001b[38;5;21;01mplotly\u001b[39;00m\u001b[38;5;21;01m.\u001b[39;00m\u001b[38;5;21;01mgraph_objects\u001b[39;00m \u001b[38;5;28;01mas\u001b[39;00m \u001b[38;5;21;01mgo\u001b[39;00m\n\u001b[1;32m    162\u001b[0m     \u001b[38;5;28;01mimport\u001b[39;00m \u001b[38;5;21;01mnumpy\u001b[39;00m \u001b[38;5;28;01mas\u001b[39;00m \u001b[38;5;21;01mnp\u001b[39;00m\n\u001b[1;32m    165\u001b[0m     \u001b[38;5;28;01mif\u001b[39;00m (c \u001b[38;5;241m==\u001b[39m \u001b[38;5;28;01mNone\u001b[39;00m):\n",
      "\u001b[0;31mModuleNotFoundError\u001b[0m: No module named 'plotly'"
     ]
    }
   ],
   "source": [
    "A_2d = A_unit*radial_A\n",
    "A_3d = np.concatenate([A_2d,np.linalg.norm(A_2d,axis=1).reshape(-1,1)**2],axis=1)\n",
    "B_2d = B_unit*radial_B\n",
    "B_3d = np.concatenate([B_2d,np.linalg.norm(B_2d,axis=1).reshape(-1,1)**2],axis=1)\n",
    "\n",
    "from Utils import scatter3d\n",
    "fig = scatter3d(A_3d[:,0],A_3d[:,1],A_3d[:,2])\n",
    "fig = scatter3d(B_3d[:,0],B_3d[:,1],B_3d[:,2],fig=fig,c='red')\n",
    "fig.show()"
   ]
  },
  {
   "cell_type": "markdown",
   "metadata": {},
   "source": [
    "> Remember the extra dimension that we always add to simplify notation. Therefore the full $\\phi$ in the above examples is $\\hat \\phi(x) = (x_1,x_2,x_1^2+x_2^2,1)$.\n",
    "\n",
    "So if we transform the $x \\to \\phi(x)$ for some good transformation $\\phi$ then our perceptron will try to solve\n",
    "$$\n",
    "    w \\cdot \\phi(x_i)l_i > 0\n",
    "$$\n",
    "furthermore, remember how we constructed $w$ using the perceptron algorithms, i.e. using additions of $x_i l_i$, which transforms into $\\phi(x_i)l_i$, and we start with $w=0$, this gives that the weight has the form\n",
    "$$\n",
    "    w = \\sum_{i=1}^n c_i \\phi(x_i)\n",
    "$$\n",
    "for numbers $c_i$. The perceptron algorithm becomes just addition and subtraction of certain $c_i$'s by 1."
   ]
  },
  {
   "cell_type": "markdown",
   "metadata": {},
   "source": [
    "Furthermore\n",
    "$$\n",
    "    w \\cdot \\phi(x_i) = \\sum_{i=1}^n c_j \\phi(x_j) \\cdot \\phi(x_i) = \\sum_{i=1}^n c_i k_{ij}\n",
    "$$\n",
    "where $k_{ij} = \\phi(x_i) \\cdot \\phi(x_j)$."
   ]
  },
  {
   "cell_type": "markdown",
   "metadata": {},
   "source": [
    "Is it easy to find such a mapping $\\phi$? No, it is actually quite difficult. Furthermore, if the mapping $\\phi$ is high dimensional we might need to do alot of computation, which is not so efficient. What if we had a function $k(x,y)$ that could be written as\n",
    "$$\n",
    "    k(x,y) = \\phi(x) \\cdot \\phi(y)\n",
    "$$\n",
    "for some $\\phi$ and $k$ is easier to compute, then our life would be simpler. Also, what if we are given a function $k(x,y)$ and we would like to know if it is a \"kernel function\".\n",
    "\n",
    "### Lemma\n",
    "If $k_{ij}$ is symmetric and positive semidefinite, then there is a mapping $\\phi$ such that\n",
    "$k_{ij} = \\phi(x_i)\\phi(x_j)$.\n",
    "\n",
    "### Proof\n",
    "1. $k = Q \\Lambda Q^T$ (eigendecomposition)\n",
    "2. $k$ is positive definite, all eigenvalues $\\geq 0$, so we can define $B = Q \\Lambda^{1/2}$.\n",
    "3. $k = B B^T$\n",
    "4. define $\\phi(x_i) = B_{i\\cdot}$, i.e. the $i$:th row of $B$, then $k_{ij} = \\phi(x_i)\\cdot \\phi(x_j)$.\n",
    "\n",
    "\n",
    "We now have a way to identify whenever a matrix $k$ is a kernel matrix. There are some standard choices of kernel functions one could try, that produces positive semi-definite matrices whenever all points $x_i$ are distinct.\n",
    "1. $k(x,y) = e^{-\\gamma |x-y|}$, called Radial Basis Function\n",
    "2. $k(x,y) = (\\gamma x \\cdot y + r)^d$, polynomial\n",
    "3. $k(x,y) = x \\cdot y$, linear\n",
    "4. $k(x,y) = \\tanh(\\gamma x \\cdot y + r)$, sigmoidal\n",
    "\n",
    "\n",
    "### Definition\n",
    "> We call a function $k(x,y)$ a kernel function if there is a mapping $\\phi$ such that $k(x,y) = \\phi(x) \\cdot \\phi(y)$.\n",
    "\n",
    "### Theorem (properties)\n",
    "Suppose $k_1,k_2$ are kernel functions. Then\n",
    "1. For any constant $c \\geq 0$, $c k_1$ is a kernel function.\n",
    "2. For any scalar function $f$, $k(x,y) = f(x)f(y)k_1(x,y)$ is a kernel function.\n",
    "3. $k_1 + k_2$ is a kernel function.\n",
    "4. $k_1k_2$ is a kernel function."
   ]
  },
  {
   "cell_type": "markdown",
   "metadata": {},
   "source": [
    "## Let me cheat a bit\n",
    "\n",
    "As we have noted, the perceptron converges in finite time if the set is linearly separable. The way to solve this problem is to introduce a \"cost function\" that penalizes misses in classification, the goal is then to minimize the total cost. The perceptron becomes the Support Vector Machine in this case, the loss is the so called \"hinge loss\"\n",
    "$$\n",
    "    \\min(0,1-w \\cdot x_i l_i)\n",
    "$$\n",
    "this means that if $w \\cdot x_i l_i \\geq 1$ (which is the requirement for the perceptron) we have 0 cost, but if we are closer to the plane $w \\cdot x = 0$ then there is a cost proportional to 1 - distance.\n",
    "\n",
    "Consider the problem of differentiating between the following handwritten digits, where $c^\\ast$ is the set of digits greater than or equal to 5."
   ]
  },
  {
   "cell_type": "code",
   "execution_count": 10,
   "metadata": {},
   "outputs": [
    {
     "data": {
      "image/png": "[encoded data removed]",
      "text/plain": [
       "<Figure size 640x480 with 10 Axes>"
      ]
     },
     "metadata": {},
     "output_type": "display_data"
    }
   ],
   "source": [
    "from math import floor\n",
    "from sklearn.datasets import load_digits\n",
    "import matplotlib.pyplot as plt\n",
    "from sklearn.datasets import load_digits\n",
    "digits = load_digits()\n",
    "fig, ax = plt.subplots(2,5)\n",
    "plt.gray()\n",
    "for i in range(10):\n",
    "    row = floor(i/5)\n",
    "    column = i % 5\n",
    "    ax[row,column].imshow(digits['data'][i,:].reshape(8,8))"
   ]
  },
  {
   "cell_type": "code",
   "execution_count": 11,
   "metadata": {},
   "outputs": [
    {
     "data": {
      "text/html": [
       "<style>#sk-container-id-1 {color: black;}#sk-container-id-1 pre{padding: 0;}#sk-container-id-1 div.sk-toggleable {background-color: white;}#sk-container-id-1 label.sk-toggleable__label {cursor: pointer;display: block;width: 100%;margin-bottom: 0;padding: 0.3em;box-sizing: border-box;text-align: center;}#sk-container-id-1 label.sk-toggleable__label-arrow:before {content: \"▸\";float: left;margin-right: 0.25em;color: #696969;}#sk-container-id-1 label.sk-toggleable__label-arrow:hover:before {color: black;}#sk-container-id-1 div.sk-estimator:hover label.sk-toggleable__label-arrow:before {color: black;}#sk-container-id-1 div.sk-toggleable__content {max-height: 0;max-width: 0;overflow: hidden;text-align: left;background-color: #f0f8ff;}#sk-container-id-1 div.sk-toggleable__content pre {margin: 0.2em;color: black;border-radius: 0.25em;background-color: #f0f8ff;}#sk-container-id-1 input.sk-toggleable__control:checked~div.sk-toggleable__content {max-height: 200px;max-width: 100%;overflow: auto;}#sk-container-id-1 input.sk-toggleable__control:checked~label.sk-toggleable__label-arrow:before {content: \"▾\";}#sk-container-id-1 div.sk-estimator input.sk-toggleable__control:checked~label.sk-toggleable__label {background-color: #d4ebff;}#sk-container-id-1 div.sk-label input.sk-toggleable__control:checked~label.sk-toggleable__label {background-color: #d4ebff;}#sk-container-id-1 input.sk-hidden--visually {border: 0;clip: rect(1px 1px 1px 1px);clip: rect(1px, 1px, 1px, 1px);height: 1px;margin: -1px;overflow: hidden;padding: 0;position: absolute;width: 1px;}#sk-container-id-1 div.sk-estimator {font-family: monospace;background-color: #f0f8ff;border: 1px dotted black;border-radius: 0.25em;box-sizing: border-box;margin-bottom: 0.5em;}#sk-container-id-1 div.sk-estimator:hover {background-color: #d4ebff;}#sk-container-id-1 div.sk-parallel-item::after {content: \"\";width: 100%;border-bottom: 1px solid gray;flex-grow: 1;}#sk-container-id-1 div.sk-label:hover label.sk-toggleable__label {background-color: #d4ebff;}#sk-container-id-1 div.sk-serial::before {content: \"\";position: absolute;border-left: 1px solid gray;box-sizing: border-box;top: 0;bottom: 0;left: 50%;z-index: 0;}#sk-container-id-1 div.sk-serial {display: flex;flex-direction: column;align-items: center;background-color: white;padding-right: 0.2em;padding-left: 0.2em;position: relative;}#sk-container-id-1 div.sk-item {position: relative;z-index: 1;}#sk-container-id-1 div.sk-parallel {display: flex;align-items: stretch;justify-content: center;background-color: white;position: relative;}#sk-container-id-1 div.sk-item::before, #sk-container-id-1 div.sk-parallel-item::before {content: \"\";position: absolute;border-left: 1px solid gray;box-sizing: border-box;top: 0;bottom: 0;left: 50%;z-index: -1;}#sk-container-id-1 div.sk-parallel-item {display: flex;flex-direction: column;z-index: 1;position: relative;background-color: white;}#sk-container-id-1 div.sk-parallel-item:first-child::after {align-self: flex-end;width: 50%;}#sk-container-id-1 div.sk-parallel-item:last-child::after {align-self: flex-start;width: 50%;}#sk-container-id-1 div.sk-parallel-item:only-child::after {width: 0;}#sk-container-id-1 div.sk-dashed-wrapped {border: 1px dashed gray;margin: 0 0.4em 0.5em 0.4em;box-sizing: border-box;padding-bottom: 0.4em;background-color: white;}#sk-container-id-1 div.sk-label label {font-family: monospace;font-weight: bold;display: inline-block;line-height: 1.2em;}#sk-container-id-1 div.sk-label-container {text-align: center;}#sk-container-id-1 div.sk-container {/* jupyter's `normalize.less` sets `[hidden] { display: none; }` but bootstrap.min.css set `[hidden] { display: none !important; }` so we also need the `!important` here to be able to override the default hidden behavior on the sphinx rendered scikit-learn.org. See: https://github.com/scikit-learn/scikit-learn/issues/21755 */display: inline-block !important;position: relative;}#sk-container-id-1 div.sk-text-repr-fallback {display: none;}</style><div id=\"sk-container-id-1\" class=\"sk-top-container\"><div class=\"sk-text-repr-fallback\"><pre>SVC(kernel=&#x27;linear&#x27;)</pre><b>In a Jupyter environment, please rerun this cell to show the HTML representation or trust the notebook. <br />On GitHub, the HTML representation is unable to render, please try loading this page with nbviewer.org.</b></div><div class=\"sk-container\" hidden><div class=\"sk-item\"><div class=\"sk-estimator sk-toggleable\"><input class=\"sk-toggleable__control sk-hidden--visually\" id=\"sk-estimator-id-1\" type=\"checkbox\" checked><label for=\"sk-estimator-id-1\" class=\"sk-toggleable__label sk-toggleable__label-arrow\">SVC</label><div class=\"sk-toggleable__content\"><pre>SVC(kernel=&#x27;linear&#x27;)</pre></div></div></div></div></div>"
      ],
      "text/plain": [
       "SVC(kernel='linear')"
      ]
     },
     "execution_count": 11,
     "metadata": {},
     "output_type": "execute_result"
    }
   ],
   "source": [
    "from sklearn.svm import SVC\n",
    "\n",
    "labels = digits['target'] > 5\n",
    "\n",
    "X = digits['data']\n",
    "\n",
    "from sklearn.model_selection import train_test_split\n",
    "X_train, X_test, Y_train, Y_test = train_test_split(X,labels,)\n",
    "\n",
    "per = SVC(kernel='linear')\n",
    "\n",
    "per.fit(X_train,Y_train)"
   ]
  },
  {
   "cell_type": "code",
   "execution_count": 12,
   "metadata": {},
   "outputs": [
    {
     "ename": "TypeError",
     "evalue": "ClassifierMixin.score() missing 2 required positional arguments: 'X' and 'y'",
     "output_type": "error",
     "traceback": [
      "\u001b[0;31m---------------------------------------------------------------------------\u001b[0m",
      "\u001b[0;31mTypeError\u001b[0m                                 Traceback (most recent call last)",
      "Cell \u001b[0;32mIn[12], line 1\u001b[0m\n\u001b[0;32m----> 1\u001b[0m \u001b[43mper\u001b[49m\u001b[38;5;241;43m.\u001b[39;49m\u001b[43mscore\u001b[49m\u001b[43m(\u001b[49m\u001b[43m)\u001b[49m\n",
      "\u001b[0;31mTypeError\u001b[0m: ClassifierMixin.score() missing 2 required positional arguments: 'X' and 'y'"
     ]
    }
   ],
   "source": [
    "per.score()"
   ]
  },
  {
   "cell_type": "code",
   "execution_count": null,
   "metadata": {},
   "outputs": [],
   "source": [
    "print(\"Training precision: \\t\", per.score(X_train,Y_train))\n",
    "\n",
    "print(\"Test precision: \\t\", per.score(X_test,Y_test))"
   ]
  },
  {
   "cell_type": "markdown",
   "metadata": {},
   "source": [
    "This is really interesting right? With just a linear classifier we can differentiate between digits less than and larger than 5 using a linear classifier up to 88% correct..."
   ]
  },
  {
   "cell_type": "markdown",
   "metadata": {},
   "source": [
    "But, we talked about the fact that different kernels might improve things. A famous kernel is the Radial Basis Function kernel, which we showed above. Lets try it"
   ]
  },
  {
   "cell_type": "markdown",
   "metadata": {},
   "source": [
    "### The Radial Basis Function Kernel"
   ]
  },
  {
   "cell_type": "code",
   "execution_count": 13,
   "metadata": {},
   "outputs": [
    {
     "name": "stdout",
     "output_type": "stream",
     "text": [
      "Training precision: \t 0.9873793615441723\n",
      "Test precision: \t 0.9911111111111112\n"
     ]
    }
   ],
   "source": [
    "from sklearn.svm import SVC\n",
    "\n",
    "labels = digits['target'] > 5\n",
    "\n",
    "X = digits['data']\n",
    "\n",
    "from sklearn.model_selection import train_test_split\n",
    "X_train, X_test, Y_train, Y_test = train_test_split(X,labels)\n",
    "\n",
    "per = SVC(kernel='rbf')\n",
    "\n",
    "per.fit(X_train,Y_train)\n",
    "\n",
    "print(\"Training precision: \\t\", per.score(X_train,Y_train))\n",
    "\n",
    "print(\"Test precision: \\t\", per.score(X_test,Y_test))"
   ]
  },
  {
   "cell_type": "markdown",
   "metadata": {},
   "source": [
    "This is borderline crazy, how can we differentiate between these digits at 98% accuracy?\n",
    "I would leave this up to you to think about. But the fact is that it does work well."
   ]
  },
  {
   "cell_type": "markdown",
   "metadata": {},
   "source": [
    "## Probabilistic viewpoint\n",
    "\n",
    "Another model for the pattern recognition problem that has a probabilistic interpretation is the logistic regression (See Chapter 4) in the notes. In this model, we make the ansatz that the target variable, only takes values $0$ or $1$ and thus the conditional distribution of the target given the feature is thus a Bernoulli random variable. The model is thus that the $p$ in the Bernoulli is given as a function of $x$ (the feature). \n",
    "\n",
    "Let us consider the following classical wine quality dataset.\n",
    "This dataset is actually built into sklearn and we can load it as follows"
   ]
  },
  {
   "cell_type": "code",
   "execution_count": 14,
   "metadata": {},
   "outputs": [],
   "source": [
    "import ssl \n",
    "# this hack of unverified ssl context is not recommended and \n",
    "#unnecessary if you do: 'sage --pip install certifi' in your \n",
    "#bash shell after installing SageMath\n",
    "ssl._create_default_https_context = ssl._create_unverified_context\n",
    "\n",
    "import sklearn.datasets as datasets\n",
    "X, Y = datasets.load_wine(return_X_y=True)"
   ]
  },
  {
   "cell_type": "markdown",
   "metadata": {},
   "source": [
    "<div class=\"section\" id=\"wine-recognition-dataset\">\n",
    "<span id=\"wine-dataset\"></span><h3>Wine recognition dataset<a class=\"headerlink\" href=\"#wine-recognition-dataset\" title=\"Permalink to this headline\">¶</a></h3>\n",
    "<p><strong>Data Set Characteristics:</strong></p>\n",
    "<blockquote>\n",
    "<div><dl class=\"field-list simple\">\n",
    "<dt class=\"field-odd\">Number of Instances</dt>\n",
    "<dd class=\"field-odd\"><p>178 (50 in each of three classes)</p>\n",
    "</dd>\n",
    "<dt class=\"field-even\">Number of Attributes</dt>\n",
    "<dd class=\"field-even\"><p>13 numeric, predictive attributes and the class</p>\n",
    "</dd>\n",
    "<dt class=\"field-odd\">Attribute Information</dt>\n",
    "<dd class=\"field-odd\"><ul class=\"simple\">\n",
    "<li><p>Alcohol</p></li>\n",
    "<li><p>Malic acid</p></li>\n",
    "<li><p>Ash</p></li>\n",
    "<li><p>Alcalinity of ash</p></li>\n",
    "<li><p>Magnesium</p></li>\n",
    "<li><p>Total phenols</p></li>\n",
    "<li><p>Flavanoids</p></li>\n",
    "<li><p>Nonflavanoid phenols</p></li>\n",
    "<li><p>Proanthocyanins</p></li>\n",
    "<li><p>Color intensity</p></li>\n",
    "<li><p>Hue</p></li>\n",
    "<li><p>OD280/OD315 of diluted wines</p></li>\n",
    "<li><p>Proline</p></li>\n",
    "</ul>\n",
    "</dd>\n",
    "</dl>\n",
    "<ul class=\"simple\">\n",
    "<li><dl class=\"simple\">\n",
    "<dt>class:</dt><dd><ul>\n",
    "<li><p>class_0</p></li>\n",
    "<li><p>class_1</p></li>\n",
    "<li><p>class_2</p></li>\n",
    "</ul>\n",
    "</dd>\n",
    "</dl>\n",
    "</li>\n",
    "</ul>"
   ]
  },
  {
   "cell_type": "markdown",
   "metadata": {},
   "source": [
    "The wine have been grown by three different cultivators in Italy, the goal is to predict which cultivator actually made the wine base on what we can measure."
   ]
  },
  {
   "cell_type": "markdown",
   "metadata": {},
   "source": [
    "We will simplify this problem by making sure that we only have two possible classes, lets try to differentiate between `class_2` and the other cultivators. Lets convert our data so that this is the case"
   ]
  },
  {
   "cell_type": "code",
   "execution_count": 15,
   "metadata": {},
   "outputs": [
    {
     "data": {
      "text/plain": [
       "array([0, 0, 0, 0, 0, 0, 0, 0, 0, 0, 0, 0, 0, 0, 0, 0, 0, 0, 0, 0, 0, 0,\n",
       "       0, 0, 0, 0, 0, 0, 0, 0, 0, 0, 0, 0, 0, 0, 0, 0, 0, 0, 0, 0, 0, 0,\n",
       "       0, 0, 0, 0, 0, 0, 0, 0, 0, 0, 0, 0, 0, 0, 0, 0, 0, 0, 0, 0, 0, 0,\n",
       "       0, 0, 0, 0, 0, 0, 0, 0, 0, 0, 0, 0, 0, 0, 0, 0, 0, 0, 0, 0, 0, 0,\n",
       "       0, 0, 0, 0, 0, 0, 0, 0, 0, 0, 0, 0, 0, 0, 0, 0, 0, 0, 0, 0, 0, 0,\n",
       "       0, 0, 0, 0, 0, 0, 0, 0, 0, 0, 0, 0, 0, 0, 0, 0, 0, 0, 0, 0, 1, 1,\n",
       "       1, 1, 1, 1, 1, 1, 1, 1, 1, 1, 1, 1, 1, 1, 1, 1, 1, 1, 1, 1, 1, 1,\n",
       "       1, 1, 1, 1, 1, 1, 1, 1, 1, 1, 1, 1, 1, 1, 1, 1, 1, 1, 1, 1, 1, 1,\n",
       "       1, 1])"
      ]
     },
     "execution_count": 15,
     "metadata": {},
     "output_type": "execute_result"
    }
   ],
   "source": [
    "Y_binary = (Y > 1)*1\n",
    "Y_binary"
   ]
  },
  {
   "cell_type": "code",
   "execution_count": 16,
   "metadata": {},
   "outputs": [
    {
     "data": {
      "text/plain": [
       "(178, 13)"
      ]
     },
     "execution_count": 16,
     "metadata": {},
     "output_type": "execute_result"
    }
   ],
   "source": [
    "X.shape # 178 samples and 13 features"
   ]
  },
  {
   "cell_type": "code",
   "execution_count": 17,
   "metadata": {},
   "outputs": [
    {
     "data": {
      "text/plain": [
       "(178,)"
      ]
     },
     "execution_count": 17,
     "metadata": {},
     "output_type": "execute_result"
    }
   ],
   "source": [
    "Y_binary.shape # 178 samples"
   ]
  },
  {
   "cell_type": "markdown",
   "metadata": {},
   "source": [
    "We will now try to apply the logistic regression model, recall the logistic function $\\frac{1}{1+e^{-x}}$"
   ]
  },
  {
   "cell_type": "code",
   "execution_count": 18,
   "metadata": {},
   "outputs": [
    {
     "data": {
      "text/plain": [
       "[<matplotlib.lines.Line2D at 0x7fe72b024940>]"
      ]
     },
     "execution_count": 18,
     "metadata": {},
     "output_type": "execute_result"
    },
    {
     "data": {
      "image/png": "[encoded data removed]",
      "text/plain": [
       "<Figure size 640x480 with 1 Axes>"
      ]
     },
     "metadata": {},
     "output_type": "display_data"
    }
   ],
   "source": [
    "x = np.linspace(-10,10,100)\n",
    "plt.plot(x,1/(1+np.exp(-x)))"
   ]
  },
  {
   "cell_type": "markdown",
   "metadata": {},
   "source": [
    "To start, we are going to put everything on unit scale (for us this is only to simplify plotting). The unit scale is done using `StandardScaler` which takes each feature in `X` and rescales so that the mean is zero and standard deviation is $1$.\n",
    "\n",
    "The second thing we are going to do is to consider only one feature, $X$ has $13$ features, I have for your pleasure chosen the feature with index $9$ (most visual)."
   ]
  },
  {
   "cell_type": "code",
   "execution_count": 19,
   "metadata": {},
   "outputs": [],
   "source": [
    "from sklearn.preprocessing import StandardScaler\n",
    "sc = StandardScaler()\n",
    "X_sc = sc.fit_transform(X)\n",
    "Y1 = 2*Y_binary-1 # Transform into +-1"
   ]
  },
  {
   "cell_type": "code",
   "execution_count": 20,
   "metadata": {},
   "outputs": [],
   "source": [
    "# Uncomment and run to understand what it does\n",
    "#?StandardScaler"
   ]
  },
  {
   "cell_type": "code",
   "execution_count": 23,
   "metadata": {},
   "outputs": [
    {
     "data": {
      "text/plain": [
       "  message: CONVERGENCE: REL_REDUCTION_OF_F_<=_FACTR*EPSMCH\n",
       "  success: True\n",
       "   status: 0\n",
       "      fun: 67.32689020081213\n",
       "        x: [-1.433e+00  1.840e+00]\n",
       "      nit: 8\n",
       "      jac: [-3.553e-05  2.132e-05]\n",
       "     nfev: 30\n",
       "     njev: 10\n",
       " hess_inv: <2x2 LbfgsInvHessProduct with dtype=float64>"
      ]
     },
     "execution_count": 23,
     "metadata": {},
     "output_type": "execute_result"
    }
   ],
   "source": [
    "import numpy as np\n",
    "from scipy import optimize\n",
    "\n",
    "# define the objective/cost/loss function we want to minimise\n",
    "def f(x):\n",
    "    return np.sum(np.log(1+np.exp(-Y1*(x[0] + x[1]*X_sc[:,9]))))\n",
    "\n",
    "# multi-dimensional optimisation is syntactically similar to 1D, \n",
    "# but we are using Gradient and Hessian information from numerical evaluation of f to \n",
    "# iteratively improve the solution along the steepest direction, etc. \n",
    "# It 'LBFGS' method you will see in scientific computing\n",
    "parameter_bounding_box=((-10, 2), (-10, 2)) # specify the constraints for each parameter\n",
    "initial_arguments = np.array([0, 0]) # point in 2D to initialise the minimize algorithm\n",
    "result = optimize.minimize(f, initial_arguments, bounds=parameter_bounding_box,) # just call the minimize method!\n",
    "result"
   ]
  },
  {
   "cell_type": "code",
   "execution_count": 24,
   "metadata": {},
   "outputs": [],
   "source": [
    "result_func= lambda z: 1/(1+np.exp(-result.x[0]-result.x[1]*z))"
   ]
  },
  {
   "cell_type": "code",
   "execution_count": null,
   "metadata": {},
   "outputs": [],
   "source": [
    "plt.scatter(X_sc[:,9],Y_binary)\n",
    "plt.plot(x,result_func(x))\n",
    "#P = points(zip(X_sc[:,9],Y_binary))\n",
    "#P+= plot(result_func,-10,10)\n",
    "#P+= plot(0.5,color='grey')\n",
    "#show(P)"
   ]
  },
  {
   "cell_type": "markdown",
   "metadata": {},
   "source": [
    "Lets try to do the same thing with the ready made `LogisticRegression` in `sklearn`"
   ]
  },
  {
   "cell_type": "code",
   "execution_count": null,
   "metadata": {},
   "outputs": [],
   "source": [
    "from sklearn.linear_model import LogisticRegression\n",
    "logreg = LogisticRegression(penalty='none')\n",
    "logreg.fit(X_sc[:,9].reshape(-1,1),Y_binary)"
   ]
  },
  {
   "cell_type": "code",
   "execution_count": null,
   "metadata": {},
   "outputs": [],
   "source": [
    "(logreg.coef_,logreg.intercept_)"
   ]
  },
  {
   "cell_type": "markdown",
   "metadata": {},
   "source": [
    "As we can see, we get the same result and it is very easy to write the code. **But now you know what is under the hood, so if you need to apply a different model, you can do it yourself.**"
   ]
  }
 ],
 "metadata": {
  "kernelspec": {
   "display_name": "Python 3 (ipykernel)",
   "language": "python",
   "name": "python3"
  },
  "language_info": {
   "codemirror_mode": {
    "name": "ipython",
    "version": 3
   },
   "file_extension": ".py",
   "mimetype": "text/x-python",
   "name": "python",
   "nbconvert_exporter": "python",
   "pygments_lexer": "ipython3",
   "version": "3.10.12"
  },
  "lx_course_instance": "2023",
  "lx_course_name": "Introduction to Data Science",
  "lx_course_number": "1MS041"
 },
 "nbformat": 4,
 "nbformat_minor": 4
}
