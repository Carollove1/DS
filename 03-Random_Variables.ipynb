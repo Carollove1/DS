{
 "cells": [
  {
   "cell_type": "markdown",
   "id": "c094d6d2",
   "metadata": {
    "deletable": false
   },
   "source": [
    "# [Introduction to Data Science](http://datascience-intro.github.io/1MS041-2023/)    \n",
    "## 1MS041, 2023 \n",
    "&copy;2023 Raazesh Sainudiin, Benny Avelin. [Attribution 4.0 International     (CC BY 4.0)](https://creativecommons.org/licenses/by/4.0/)"
   ]
  },
  {
   "cell_type": "markdown",
   "id": "38bfa4b4",
   "metadata": {},
   "source": [
    "## Second notebook on Random variables\n",
    "\n",
    "Lets take a look again at the spam dataset and look at our concepts there"
   ]
  },
  {
   "cell_type": "code",
   "execution_count": 3,
   "id": "cecb319d",
   "metadata": {},
   "outputs": [
    {
     "data": {
      "text/plain": [
       "[('Go until jurong point, crazy.. Available only in bugis n great world la e buffet... Cine there got amore wat...',\n",
       "  0),\n",
       " ('Ok lar... Joking wif u oni...', 0)]"
      ]
     },
     "execution_count": 3,
     "metadata": {},
     "output_type": "execute_result"
    }
   ],
   "source": [
    "from Utils import load_sms\n",
    "sms_data = load_sms()\n",
    "sms_data[:2]"
   ]
  },
  {
   "cell_type": "markdown",
   "id": "4205fda5",
   "metadata": {},
   "source": [
    "Let X represents each SMS text (an entry in the list), and let $Y$ represent whether text is spam or not i.e. $Y \\in \\{0,1\\}$. Thus $\\mathbb{P}(Y = 1)$ is the probability that we get a spam. The goal is to estimate:\n",
    "$$\n",
    "    \\mathbb{P}(Y = 1 | \\text{\"free\" or \"prize\" is in } X) \\enspace .\n",
    "$$\n",
    "That is, the probability that the SMS is spam given that \"free\" or \"prize\" occurs in the SMS. \n",
    "Hint: it is good to remove the upper/lower case of words so that we can also find \"Free\" and \"Prize\"; this can be done with `text.lower()` if `text` a string.\n",
    "\n",
    "To do this we can create a new random variable $Z$ which is $1$ if \"free\" or \"prize\" appears in $X$."
   ]
  },
  {
   "cell_type": "code",
   "execution_count": 4,
   "id": "03cbdc8f",
   "metadata": {},
   "outputs": [
    {
     "data": {
      "text/plain": [
       "\" 这段代码使用了列表解析式（list comprehension）的语法结构\\n列表解析式是一种简洁的方法，用于创建新的列表\\n具体来说，这个列表解析式可以分为两部分：外部和内部\\n\\n外部部分：\\nz_obs=[……for line in sms_data]\\n这个循环语句遍历了sms_data列表中的每个元素，将其命名为line。\\n这样，我们可以逐个处理每条短信文本\\n\\n内部部分：\\nTF10[not interesting_words.isdisjoint([word.lower() for word in line[0].split(' ')])]\\n\\n在内部部分，我们先对line进行操作，就是取出line元素的第一个元素line[0],也就是短信文本\\n\\n然后，我们使用split(' ')方法将文本按空格进行分割，得到一个单词列表。\\n\\n接着，我们使用列表解析式[word.lower() for word in line[0].split(' ')]对单词列表进行操作\\n将其中的每个单词都转换成小写形式word.lower(),并生成一个新列表\\n\\n最后，我们使用interesting_words.isdisjoint(...)检查有趣单词集合与新的单词列表的交集是否为空集\\nisdisjoint(...)方法返回一个布尔值，如果交集为空集，则返回True，否则返回False。\\n在这里，我们使用not关键字对返回的布尔值取反，\\n即如果交集为空集，则结果为True，否则为False\\n\\n最终，内部部分的表达式\\nTF10[not interesting_words.isdisjoint([word.lower() for word in line[0].split(' ')])]\\n会返回一个值，根据这个值来选择TF10字典中对应的值（1,0）\\n\\n整个列表解析式的作用是遍历sms_data列表中的每个元素\\n对每条短信文本进行处理\\n生成一个由0和1组成的观测值列表Z_obs，\\n表示每条短信文本是否包含free或prize\\n\""
      ]
     },
     "execution_count": 4,
     "metadata": {},
     "output_type": "execute_result"
    }
   ],
   "source": [
    "interesting_words=set(['free','prize'])\n",
    "TF10 = {True: 1, False: 0}   # 创建了一个字典，True为1，False为0\n",
    "Z_obs = [TF10[not interesting_words.isdisjoint([word.lower() for word in line[0].split(' ')])] for line in sms_data]\n",
    "\n",
    "''' 这段代码使用了列表解析式（list comprehension）的语法结构\n",
    "列表解析式是一种简洁的方法，用于创建新的列表\n",
    "具体来说，这个列表解析式可以分为两部分：外部和内部\n",
    "\n",
    "外部部分：\n",
    "z_obs=[……for line in sms_data]\n",
    "这个循环语句遍历了sms_data列表中的每个元素，将其命名为line。\n",
    "这样，我们可以逐个处理每条短信文本\n",
    "\n",
    "内部部分：\n",
    "TF10[not interesting_words.isdisjoint([word.lower() for word in line[0].split(' ')])]\n",
    "\n",
    "在内部部分，我们先对line进行操作，就是取出line元素的第一个元素line[0],也就是短信文本\n",
    "\n",
    "然后，我们使用split(' ')方法将文本按空格进行分割，得到一个单词列表。\n",
    "\n",
    "接着，我们使用列表解析式[word.lower() for word in line[0].split(' ')]对单词列表进行操作\n",
    "将其中的每个单词都转换成小写形式word.lower(),并生成一个新列表\n",
    "\n",
    "最后，我们使用interesting_words.isdisjoint(...)检查有趣单词集合与新的单词列表的交集是否为空集\n",
    "isdisjoint(...)方法返回一个布尔值，如果交集为空集，则返回True，否则返回False。\n",
    "在这里，我们使用not关键字对返回的布尔值取反，\n",
    "即如果交集为空集，则结果为True，否则为False\n",
    "\n",
    "最终，内部部分的表达式\n",
    "TF10[not interesting_words.isdisjoint([word.lower() for word in line[0].split(' ')])]\n",
    "会返回一个值，根据这个值来选择TF10字典中对应的值（1,0）\n",
    "\n",
    "整个列表解析式的作用是遍历sms_data列表中的每个元素\n",
    "对每条短信文本进行处理\n",
    "生成一个由0和1组成的观测值列表Z_obs，\n",
    "表示每条短信文本是否包含free或prize\n",
    "'''"
   ]
  },
  {
   "cell_type": "code",
   "execution_count": 5,
   "id": "9cfc9bfc",
   "metadata": {},
   "outputs": [
    {
     "data": {
      "text/plain": [
       "[0, 0, 1, 0, 0, 0, 0, 0, 1, 1]"
      ]
     },
     "execution_count": 5,
     "metadata": {},
     "output_type": "execute_result"
    }
   ],
   "source": [
    "Z_obs[:10]"
   ]
  },
  {
   "cell_type": "code",
   "execution_count": 6,
   "id": "babc8fc2",
   "metadata": {},
   "outputs": [
    {
     "data": {
      "text/plain": [
       "[0, 0, 1, 0, 0, 1, 0, 0, 1, 1]"
      ]
     },
     "execution_count": 6,
     "metadata": {},
     "output_type": "execute_result"
    }
   ],
   "source": [
    "Y_obs = [y for x,y in sms_data] \n",
    "# 创建一个由sms_data中每个元素的第二个元素y组成的列表 Y_obs\n",
    "\n",
    "Y_obs[:10]\n",
    "# 对列表Y_obs进行切片，只获取前10个元素。"
   ]
  },
  {
   "cell_type": "code",
   "execution_count": 10,
   "id": "67942663",
   "metadata": {},
   "outputs": [
    {
     "data": {
      "text/plain": [
       "'\\n这里，我们使用了zip()函数将Y_obs和Z_obs两个列表进行元素级别的配对\\nzip()函数会生成一个迭代器，\\n每次返回Y_obs和Z_obs中对应位置的元素\\n接着，通过循环遍历迭代器中的元素，\\n我们将每对配对的元素命名为y和z\\n对于每个y和z，我们使用条件语句，\\ny<=x[0] and z<=x[1]来判断它们是否满足要求。\\n如果满足条件，即y小于等于x的第一个元素，且z小于等于x的第二个元素\\n则取出TF10[True]的值，即1\\n否则取False的值，即0\\n这样就生成了一个包含0和1的列表\\n最后，使用np.mean()函数对列表中的元素求均值，得到最终的结果\\n总结来说，函数F_X_12()的目的是计算基于输入x的均值。\\n它通过遍历配对的Y_obs和Z_obs元素，并根据条件语句选择相应的值（0或1）\\n最后求得这些值的均值作为函数的返回值\\n'"
      ]
     },
     "execution_count": 10,
     "metadata": {},
     "output_type": "execute_result"
    }
   ],
   "source": [
    "import numpy as np\n",
    "def F_X_12(x):\n",
    "    TF10 = {True: 1, False: 0}\n",
    "    return np.mean([TF10[(y <= x[0]) and (z <= x[1])] for y,z in zip (Y_obs,Z_obs)])\n",
    "'''\n",
    "这里，我们使用了zip()函数将Y_obs和Z_obs两个列表进行元素级别的配对\n",
    "zip()函数会生成一个迭代器，\n",
    "每次返回Y_obs和Z_obs中对应位置的元素\n",
    "接着，通过循环遍历迭代器中的元素，\n",
    "我们将每对配对的元素命名为y和z\n",
    "对于每个y和z，我们使用条件语句，\n",
    "y<=x[0] and z<=x[1]来判断它们是否满足要求。\n",
    "如果满足条件，即y小于等于x的第一个元素，且z小于等于x的第二个元素\n",
    "则取出TF10[True]的值，即1\n",
    "否则取False的值，即0\n",
    "这样就生成了一个包含0和1的列表\n",
    "最后，使用np.mean()函数对列表中的元素求均值，得到最终的结果\n",
    "总结来说，函数F_X_12()的目的是计算基于输入x的均值。\n",
    "它通过遍历配对的Y_obs和Z_obs元素，并根据条件语句选择相应的值（0或1）\n",
    "最后求得这些值的均值作为函数的返回值\n",
    "'''"
   ]
  },
  {
   "cell_type": "code",
   "execution_count": 11,
   "id": "74ec5780",
   "metadata": {},
   "outputs": [
    {
     "data": {
      "text/plain": [
       "0.9551328068916008"
      ]
     },
     "execution_count": 11,
     "metadata": {},
     "output_type": "execute_result"
    }
   ],
   "source": [
    "F_X_12([1,0])\n",
    "# 它将会计算在条件y<=1 and z<=0的条件下，得到的均值"
   ]
  },
  {
   "cell_type": "markdown",
   "id": "d42c69ef",
   "metadata": {},
   "source": [
    "This is the JDF for this problem"
   ]
  },
  {
   "cell_type": "code",
   "execution_count": 12,
   "id": "173da03d",
   "metadata": {},
   "outputs": [
    {
     "name": "stdout",
     "output_type": "stream",
     "text": [
      "\tz <= 0 \t\tz <= 1\n",
      "y <= 0 \t0.86\t\t0.87\t\t\n",
      "\n",
      "y <= 1 \t0.96\t\t1.00\t\t\n",
      "\n"
     ]
    }
   ],
   "source": [
    "#这段代码是一个简单的循环结构，用于打印一个二维表格，表格中包含了一些条件概率的计算结果。\n",
    "\n",
    "print(\"\\tz <= 0 \\t\\tz <= 1\")\n",
    "#打印表头，包括两列，分别表示 z 小于等于 0 和 z 小于等于 1 的情况。\n",
    "#\\t\\t 是制表符，用于在输出中创建水平间距。\n",
    "\n",
    "for x1 in range(0,2):\n",
    "#外层循环，遍历 x1 的取值范围为 0 到 1（不包括2）。\n",
    "    print(\"y <= %d \\t\" % x1,end='')\n",
    "    #打印表格中每一行的行头，包括 y 小于等于 x1 的情况。\n",
    "    for x2 in range(0,2):\n",
    "    #内层循环，遍历 x2 的取值范围为 0 到 1（不包括2）\n",
    "        print(\"%.2f\" % (F_X_12((x1,x2))),end='\\t\\t')\n",
    "        #打印条件概率的值，使用函数 F_X_12((x1,x2)) 来计算并保留两位小数，然后以制表符分隔。\n",
    "\n",
    "    print('\\n')\n",
    "    #内层循环结束后换行，开始新的一行的打印。\n",
    "\n"
   ]
  },
  {
   "cell_type": "code",
   "execution_count": 13,
   "id": "f79adfb6",
   "metadata": {},
   "outputs": [
    {
     "data": {
      "text/plain": [
       "0.9551328068916008"
      ]
     },
     "execution_count": 13,
     "metadata": {},
     "output_type": "execute_result"
    }
   ],
   "source": [
    "F_X_12((1,0))"
   ]
  },
  {
   "cell_type": "code",
   "execution_count": 14,
   "id": "3397ec30",
   "metadata": {},
   "outputs": [
    {
     "data": {
      "text/plain": [
       "False"
      ]
     },
     "execution_count": 14,
     "metadata": {},
     "output_type": "execute_result"
    }
   ],
   "source": [
    "F_X_12((0,0)) == F_X_12((0,1))*F_X_12((1,0))"
   ]
  },
  {
   "cell_type": "code",
   "execution_count": 15,
   "id": "d0778225",
   "metadata": {},
   "outputs": [
    {
     "data": {
      "text/plain": [
       "0.8270846721557743"
      ]
     },
     "execution_count": 15,
     "metadata": {},
     "output_type": "execute_result"
    }
   ],
   "source": [
    "F_X_12((0,1))*F_X_12((1,0))"
   ]
  },
  {
   "cell_type": "code",
   "execution_count": 16,
   "id": "0078dfee",
   "metadata": {},
   "outputs": [
    {
     "data": {
      "text/plain": [
       "0.827084672155774"
      ]
     },
     "execution_count": 16,
     "metadata": {},
     "output_type": "execute_result"
    }
   ],
   "source": [
    "# Are they indepdentent? If so, then the JDF is just the product of the \n",
    "# DFs for Y and Z, but\n",
    "0.865936826992103*0.955132806891601"
   ]
  },
  {
   "cell_type": "markdown",
   "id": "1f9ce5d5",
   "metadata": {},
   "source": [
    "Which is not 0.858, so they are not independent. So lets try to estimate the probability that $Y=1$ given that $Z = 1$. Lets again do that by filtering"
   ]
  },
  {
   "cell_type": "code",
   "execution_count": 17,
   "id": "12744915",
   "metadata": {},
   "outputs": [
    {
     "data": {
      "text/plain": [
       "0.812"
      ]
     },
     "execution_count": 17,
     "metadata": {},
     "output_type": "execute_result"
    }
   ],
   "source": [
    "np.mean([y for z,y in zip(Z_obs,Y_obs) if z == 1])\n",
    "\n",
    "#zip(Z_obs, Y_obs)：将 Z_obs 和 Y_obs 中的每个元素逐一配对，形成一个由元组组成的列表。\n",
    "#使用列表推导式从配对好的列表中提取出 Y_obs 中与 Z_obs 中值为 1 的元素对应的值。\n",
    "#if z == 1：只选择 Z_obs 中值为 1 的元素对应的 Y_obs 中的值。\n",
    "#np.mean(...)：计算选中的 Y_obs 中的值的平均值"
   ]
  },
  {
   "cell_type": "markdown",
   "id": "e90b1d0e",
   "metadata": {},
   "source": [
    "Compare that with the marginal probability of $Y = 1$, which is according to our JDF 1-0.866 = 0.134"
   ]
  },
  {
   "cell_type": "code",
   "execution_count": 18,
   "id": "758b4e50",
   "metadata": {},
   "outputs": [
    {
     "data": {
      "text/plain": [
       "0.13406317300789664"
      ]
     },
     "execution_count": 18,
     "metadata": {},
     "output_type": "execute_result"
    }
   ],
   "source": [
    "# Or we can just compute it directly\n",
    "np.mean(Y_obs)"
   ]
  },
  {
   "cell_type": "markdown",
   "id": "12b0a309",
   "metadata": {},
   "source": [
    "What we see from this is that knowing that the words \"free\" or \"prize\" appeared in the sms text, we are much more certain that it is a spam. We also see that looking directly at the JDF this can be hard to see, although it is equivalent."
   ]
  },
  {
   "cell_type": "code",
   "execution_count": 19,
   "id": "75a9bf97",
   "metadata": {},
   "outputs": [],
   "source": [
    "import numpy as np\n",
    "x = np.random.normal(size=100)"
   ]
  },
  {
   "cell_type": "code",
   "execution_count": 20,
   "id": "1b64663f",
   "metadata": {},
   "outputs": [
    {
     "data": {
      "text/plain": [
       "-0.07676777541576839"
      ]
     },
     "execution_count": 20,
     "metadata": {},
     "output_type": "execute_result"
    }
   ],
   "source": [
    "np.mean(x)"
   ]
  },
  {
   "cell_type": "code",
   "execution_count": 21,
   "id": "f8f1806f",
   "metadata": {},
   "outputs": [],
   "source": [
    "g = lambda x: x**2"
   ]
  },
  {
   "cell_type": "code",
   "execution_count": 22,
   "id": "87822204",
   "metadata": {},
   "outputs": [
    {
     "data": {
      "text/plain": [
       "3.549905647648922"
      ]
     },
     "execution_count": 22,
     "metadata": {},
     "output_type": "execute_result"
    }
   ],
   "source": [
    "mean = np.mean(x)\n",
    "y = x-mean\n",
    "np.mean(y**4)"
   ]
  },
  {
   "cell_type": "markdown",
   "id": "930e91eb",
   "metadata": {},
   "source": [
    "## Moments etc"
   ]
  },
  {
   "cell_type": "code",
   "execution_count": 23,
   "id": "dc3c63fd",
   "metadata": {},
   "outputs": [],
   "source": [
    "import numpy as np\n",
    "x = np.random.normal(size=100)"
   ]
  },
  {
   "cell_type": "code",
   "execution_count": 24,
   "id": "08ba217a",
   "metadata": {
    "scrolled": true
   },
   "outputs": [
    {
     "data": {
      "text/plain": [
       "array([-1.05985671, -0.79584771,  0.32947746,  0.81266104, -0.90401447,\n",
       "        0.14807571, -1.34517383, -0.13289656,  0.03669479,  0.61560619,\n",
       "        0.61097138, -1.54400382, -0.34859803,  0.01210582, -1.38720104,\n",
       "        0.70586993, -1.53741379,  0.89195629,  0.58465789, -0.59985849,\n",
       "       -2.86701674,  0.34132237, -0.44973161, -2.03146366, -0.10382266,\n",
       "        0.08819886,  1.53388254,  0.27081834, -0.56642029, -0.21918986,\n",
       "        0.6543188 , -1.21799832,  0.10496607, -0.04324095,  0.53001093,\n",
       "       -0.79385422,  0.38620483,  0.08536938,  0.74722834,  0.2042177 ,\n",
       "       -1.86851518,  0.62316716, -0.01241111, -0.3777536 ,  1.5356345 ,\n",
       "       -0.03411028, -1.02201733,  0.11614785,  0.63146471,  0.25788871,\n",
       "        0.83016646, -1.08779247,  1.29531043, -0.04595117, -2.15092081,\n",
       "        1.9831971 , -0.0082599 , -0.28345644, -1.08619367, -0.54532041,\n",
       "        0.34286278,  2.06761626,  1.38732492,  1.49730136,  1.59060638,\n",
       "        0.32765935, -0.78168543,  0.95871037, -0.23743363,  2.10819117,\n",
       "       -0.86229549,  0.57152401,  0.71444827, -1.40445067,  1.00758368,\n",
       "       -0.49813902,  0.67088101, -0.1486785 , -1.79438049,  0.87807413,\n",
       "        2.80415946,  1.68533337, -0.80057219, -1.22067649,  0.59494829,\n",
       "        1.2658885 , -0.61353942,  1.70542203,  1.65201925, -0.31320398,\n",
       "        0.14693051, -0.1467246 ,  0.3928295 , -0.45943952, -0.28341549,\n",
       "       -0.13612175,  0.2729144 , -0.4655668 ,  0.13268976, -0.46368191])"
      ]
     },
     "execution_count": 24,
     "metadata": {},
     "output_type": "execute_result"
    }
   ],
   "source": [
    "x"
   ]
  },
  {
   "cell_type": "markdown",
   "id": "e15bca0e",
   "metadata": {},
   "source": [
    "## Sample mean"
   ]
  },
  {
   "cell_type": "code",
   "execution_count": 25,
   "id": "e2a81ed6",
   "metadata": {},
   "outputs": [
    {
     "data": {
      "text/plain": [
       "0.04643199796529371"
      ]
     },
     "execution_count": 25,
     "metadata": {},
     "output_type": "execute_result"
    }
   ],
   "source": [
    "np.mean(x)"
   ]
  },
  {
   "cell_type": "markdown",
   "id": "66ccd85f",
   "metadata": {},
   "source": [
    "## Sample variance"
   ]
  },
  {
   "cell_type": "code",
   "execution_count": 26,
   "id": "fe6e745d",
   "metadata": {},
   "outputs": [
    {
     "data": {
      "text/plain": [
       "1.0360633480716146"
      ]
     },
     "execution_count": 26,
     "metadata": {},
     "output_type": "execute_result"
    }
   ],
   "source": [
    "np.var(x)"
   ]
  },
  {
   "cell_type": "markdown",
   "id": "d0cc73be",
   "metadata": {},
   "source": [
    "Or by doing it yourself"
   ]
  },
  {
   "cell_type": "code",
   "execution_count": 27,
   "id": "4900baa8",
   "metadata": {},
   "outputs": [
    {
     "data": {
      "text/plain": [
       "1.0360633480716146"
      ]
     },
     "execution_count": 27,
     "metadata": {},
     "output_type": "execute_result"
    }
   ],
   "source": [
    "mu = np.mean(x)\n",
    "np.mean(np.power(x-mu,2))\n",
    "\n",
    "#np.power(x-mu,2)表示将数组x中的每个元素减去均值mu后平方，得到一个新的数组，\n",
    "#然后np.mean函数对这个新数组中的所有元素取平均值，最终得到的结果就是数组x的方差。"
   ]
  },
  {
   "cell_type": "markdown",
   "id": "129a0b49",
   "metadata": {},
   "source": [
    "Higher moments, we can use `scipy`"
   ]
  },
  {
   "cell_type": "code",
   "execution_count": 28,
   "id": "3ccce834",
   "metadata": {},
   "outputs": [
    {
     "data": {
      "text/plain": [
       "'这段代码使用了SciPy库中的skew和kurtosis函数来计算数组x的偏度和峰度。\\nskew(x)：调用skew函数，计算数组x的偏度，返回一个浮点数。\\n偏度是用来衡量数据分布的不对称性的统计量，\\n当偏度为0时表示数据分布对称，\\n当偏度大于0时表示数据分布右偏（也称正偏），\\n当偏度小于0时表示数据分布左偏（也称负偏）。\\nkurtosis(x, fisher=False)：调用kurtosis函数，计算数组x的峰度，返回一个浮点数。\\n峰度是用来衡量数据分布峰态的统计量，\\n当峰度为0时表示数据分布与正态分布相同，\\n当峰度大于0时表示数据分布比正态分布更陡峭（也称尖峰），\\n当峰度小于0时表示数据分布比正态分布更平缓（也称扁平）。\\n参数fisher=False表示使用非Fisher定义的峰度计算方式。'"
      ]
     },
     "execution_count": 28,
     "metadata": {},
     "output_type": "execute_result"
    }
   ],
   "source": [
    "from scipy.stats import skew, kurtosis\n",
    "\n",
    "'''这段代码使用了SciPy库中的skew和kurtosis函数来计算数组x的偏度和峰度。\n",
    "skew(x)：调用skew函数，计算数组x的偏度，返回一个浮点数。\n",
    "偏度是用来衡量数据分布的不对称性的统计量，\n",
    "当偏度为0时表示数据分布对称，\n",
    "当偏度大于0时表示数据分布右偏（也称正偏），\n",
    "当偏度小于0时表示数据分布左偏（也称负偏）。\n",
    "kurtosis(x, fisher=False)：调用kurtosis函数，计算数组x的峰度，返回一个浮点数。\n",
    "峰度是用来衡量数据分布峰态的统计量，\n",
    "当峰度为0时表示数据分布与正态分布相同，\n",
    "当峰度大于0时表示数据分布比正态分布更陡峭（也称尖峰），\n",
    "当峰度小于0时表示数据分布比正态分布更平缓（也称扁平）。\n",
    "参数fisher=False表示使用非Fisher定义的峰度计算方式。'''"
   ]
  },
  {
   "cell_type": "code",
   "execution_count": 29,
   "id": "bfb837a4",
   "metadata": {},
   "outputs": [
    {
     "data": {
      "text/plain": [
       "-0.04940136078326381"
      ]
     },
     "execution_count": 29,
     "metadata": {},
     "output_type": "execute_result"
    }
   ],
   "source": [
    "skew(x)"
   ]
  },
  {
   "cell_type": "code",
   "execution_count": 30,
   "id": "4be867a1",
   "metadata": {},
   "outputs": [
    {
     "data": {
      "text/plain": [
       "'x代表输入的数据集，可以是一个一维数组、列表或其他可迭代对象。\\nfisher是一个布尔值参数，默认为False。\\n当fisher为False时，计算的峰度值是非调整的峰度值；\\n当fisher为True时，计算的峰度值是调整的峰度值。'"
      ]
     },
     "execution_count": 30,
     "metadata": {},
     "output_type": "execute_result"
    }
   ],
   "source": [
    "kurtosis(x,fisher=False)\n",
    "'''x代表输入的数据集，可以是一个一维数组、列表或其他可迭代对象。\n",
    "fisher是一个布尔值参数，默认为False。\n",
    "当fisher为False时，计算的峰度值是非调整的峰度值；\n",
    "当fisher为True时，计算的峰度值是调整的峰度值。'''"
   ]
  },
  {
   "cell_type": "markdown",
   "id": "ee68977c",
   "metadata": {},
   "source": [
    "## Moments and tail behavior"
   ]
  },
  {
   "cell_type": "code",
   "execution_count": 31,
   "id": "002b5fb8",
   "metadata": {},
   "outputs": [],
   "source": [
    "def standardize(data):\n",
    "    mean = np.mean(data)\n",
    "    std = np.sqrt(np.var(data))\n",
    "    return (data-mean)/std"
   ]
  },
  {
   "cell_type": "code",
   "execution_count": 36,
   "id": "35ae5c73",
   "metadata": {},
   "outputs": [
    {
     "data": {
      "text/plain": [
       "(-3.0, 5.0)"
      ]
     },
     "execution_count": 36,
     "metadata": {},
     "output_type": "execute_result"
    },
    {
     "data": {
      "image/png": "[encoded data removed]",
      "text/plain": [
       "<Figure size 640x480 with 1 Axes>"
      ]
     },
     "metadata": {},
     "output_type": "display_data"
    }
   ],
   "source": [
    "import numpy as np\n",
    "chi2 = np.random.chisquare(4,size=10000)\n",
    "normal = np.random.normal(size=10000)\n",
    "import matplotlib.pyplot as plt\n",
    "_=plt.hist(standardize(chi2),bins=50,alpha=0.5)\n",
    "_=plt.hist(standardize(normal),bins=50,alpha=0.5)\n",
    "plt.xlim(-3,5)"
   ]
  },
  {
   "cell_type": "code",
   "execution_count": 37,
   "id": "a796906d",
   "metadata": {},
   "outputs": [],
   "source": [
    "from scipy.stats import skew, kurtosis\n",
    "def print_basic_stats(data):\n",
    "    print(\"mean: %.2f\\tstd: %.2f\\tskew: %.2f\\tkurtosis: %.2f\" % (np.mean(data),np.std(data),skew(data),kurtosis(data,fisher=False)))"
   ]
  },
  {
   "cell_type": "code",
   "execution_count": 38,
   "id": "b19d06b5",
   "metadata": {},
   "outputs": [
    {
     "name": "stdout",
     "output_type": "stream",
     "text": [
      "mean: -0.00\tstd: 1.00\tskew: -0.04\tkurtosis: 2.99\n"
     ]
    }
   ],
   "source": [
    "print_basic_stats(standardize(normal))"
   ]
  },
  {
   "cell_type": "code",
   "execution_count": 39,
   "id": "6cdf0358",
   "metadata": {},
   "outputs": [
    {
     "name": "stdout",
     "output_type": "stream",
     "text": [
      "mean: -0.00\tstd: 1.00\tskew: 1.35\tkurtosis: 5.51\n"
     ]
    }
   ],
   "source": [
    "print_basic_stats(standardize(chi2))"
   ]
  },
  {
   "cell_type": "code",
   "execution_count": 40,
   "id": "5a74e035",
   "metadata": {},
   "outputs": [
    {
     "name": "stdout",
     "output_type": "stream",
     "text": [
      "mean: -0.00\tstd: 1.00\tskew: 0.38\tkurtosis: 2.99\n"
     ]
    }
   ],
   "source": [
    "print_basic_stats(standardize(np.sqrt(chi2)))"
   ]
  },
  {
   "cell_type": "code",
   "execution_count": 41,
   "id": "c574a0dc",
   "metadata": {},
   "outputs": [
    {
     "data": {
      "text/plain": [
       "1.347027546694522"
      ]
     },
     "execution_count": 41,
     "metadata": {},
     "output_type": "execute_result"
    }
   ],
   "source": [
    "np.mean(np.power(standardize(chi2),3)) # Skewness"
   ]
  },
  {
   "cell_type": "code",
   "execution_count": 42,
   "id": "caf241a6",
   "metadata": {},
   "outputs": [
    {
     "data": {
      "text/plain": [
       "5.510443475059276"
      ]
     },
     "execution_count": 42,
     "metadata": {},
     "output_type": "execute_result"
    }
   ],
   "source": [
    "np.mean(np.power(standardize(chi2),4)) # kurtosis"
   ]
  },
  {
   "cell_type": "markdown",
   "id": "dcf5872a",
   "metadata": {},
   "source": [
    "## Transformations of random variables"
   ]
  },
  {
   "cell_type": "markdown",
   "id": "dd82057c",
   "metadata": {},
   "source": [
    "Consider a Binomial random variable"
   ]
  },
  {
   "cell_type": "code",
   "execution_count": 54,
   "id": "93286374",
   "metadata": {},
   "outputs": [],
   "source": [
    "n = 10\n",
    "p = 0.5\n",
    "x = np.random.binomial(n,p,size=1000)"
   ]
  },
  {
   "cell_type": "markdown",
   "id": "9de03209",
   "metadata": {},
   "source": [
    "Lets plot the empirical density"
   ]
  },
  {
   "cell_type": "code",
   "execution_count": 55,
   "id": "22f69404",
   "metadata": {},
   "outputs": [
    {
     "data": {
      "image/png": "[encoded data removed]",
      "text/plain": [
       "<Figure size 640x480 with 1 Axes>"
      ]
     },
     "metadata": {},
     "output_type": "display_data"
    }
   ],
   "source": [
    "from Utils import makeEMF,makeEDF,plotEDF,plotEMF\n",
    "plotEMF(makeEMF(x))"
   ]
  },
  {
   "cell_type": "markdown",
   "id": "f9feac12",
   "metadata": {},
   "source": [
    "If we had the function $g(x) = \\sin(x/3)$"
   ]
  },
  {
   "cell_type": "code",
   "execution_count": 56,
   "id": "7f04c0e9",
   "metadata": {},
   "outputs": [
    {
     "data": {
      "image/png": "[encoded data removed]",
      "text/plain": [
       "<Figure size 640x480 with 1 Axes>"
      ]
     },
     "metadata": {},
     "output_type": "display_data"
    }
   ],
   "source": [
    "plotEMF(makeEMF(np.sin(x)))"
   ]
  },
  {
   "cell_type": "code",
   "execution_count": 57,
   "id": "38abc4e1",
   "metadata": {},
   "outputs": [
    {
     "data": {
      "image/png": "[encoded data removed]",
      "text/plain": [
       "<Figure size 640x480 with 1 Axes>"
      ]
     },
     "metadata": {},
     "output_type": "display_data"
    }
   ],
   "source": [
    "plotEDF(makeEDF(np.sin(x)))"
   ]
  },
  {
   "cell_type": "markdown",
   "id": "b6832bd4",
   "metadata": {},
   "source": [
    "Can we compute this thing?\n",
    "What is $\\sin^{[-1]}$?\n",
    "\n",
    "Since $X$ is discrete, we can check what $\\mathbb{Y}$ is, since $\\mathbb{X}=\\{0,1,\\ldots,10\\}$."
   ]
  },
  {
   "cell_type": "code",
   "execution_count": 58,
   "id": "d068b8e7",
   "metadata": {},
   "outputs": [],
   "source": [
    "Y_space = np.sort(np.sin(np.arange(0,11)))\n",
    "\n",
    "#np.arange(0, 11) 生成一个包含 0 到 10 的整数的数组。\n",
    "#np.sin(np.arange(0, 11)) 对这个数组中的每个元素求正弦值。\n",
    "#np.sort(...) 对正弦值数组进行排序。\n",
    "#最终，Y_space 包含了按照正弦函数值排序的数组。\n",
    "\n",
    "sin_inv = dict(zip(np.sin(np.arange(0,11)),np.arange(0,11)))\n",
    "\n",
    "#np.arange(0, 11) 生成一个包含 0 到 10 的整数的数组，这将作为索引。\n",
    "#np.sin(np.arange(0, 11)) 对这个数组中的每个元素求正弦值，这将作为字典的键。\n",
    "#zip(...) 将这两个数组逐对组合，创建了一个元组的序列。\n",
    "#dict(...) 将这个元组的序列转换为字典。\n",
    "#最终，sin_inv 是一个字典，将正弦函数值映射到对应的索引"
   ]
  },
  {
   "cell_type": "code",
   "execution_count": 59,
   "id": "e0f925ec",
   "metadata": {},
   "outputs": [
    {
     "data": {
      "image/png": "[encoded data removed]",
      "text/plain": [
       "<Figure size 640x480 with 1 Axes>"
      ]
     },
     "metadata": {},
     "output_type": "display_data"
    }
   ],
   "source": [
    "from scipy.special import binom as binomial\n",
    "plotEMF([(y,binomial(n,sin_inv[y])*(p**sin_inv[y])*((1-p)**(n-sin_inv[y]))) for y in Y_space])\n",
    "\n",
    "#关于第二句的语法结构理解：\n",
    "#for y in Y_space: 这部分是一个迭代器，它遍历 Y_space 中的每个元素，并将其赋值给变量 y\n",
    "#在迭代过程中，对每个y的取值，执行以下操作：\n",
    "#binomial(n, sin_inv[y]): 计算二项式系数，其中 n 是总试验次数，sin_inv[y] 是成功的次数。"
   ]
  },
  {
   "cell_type": "code",
   "execution_count": 62,
   "id": "cb12e37a",
   "metadata": {},
   "outputs": [
    {
     "ename": "ModuleNotFoundError",
     "evalue": "No module named 'module_name'",
     "output_type": "error",
     "traceback": [
      "\u001b[0;31m---------------------------------------------------------------------------\u001b[0m",
      "\u001b[0;31mModuleNotFoundError\u001b[0m                       Traceback (most recent call last)",
      "Cell \u001b[0;32mIn[62], line 1\u001b[0m\n\u001b[0;32m----> 1\u001b[0m \u001b[38;5;28;01mfrom\u001b[39;00m \u001b[38;5;21;01mmodule_name\u001b[39;00m \u001b[38;5;28;01mimport\u001b[39;00m emfToEdf\n\u001b[1;32m      3\u001b[0m plotEDF(emfToEdf([(y,binomial(n,sin_inv[y])\u001b[38;5;241m*\u001b[39m(p\u001b[38;5;241m*\u001b[39m\u001b[38;5;241m*\u001b[39msin_inv[y])\u001b[38;5;241m*\u001b[39m((\u001b[38;5;241m1\u001b[39m\u001b[38;5;241m-\u001b[39mp)\u001b[38;5;241m*\u001b[39m\u001b[38;5;241m*\u001b[39m(n\u001b[38;5;241m-\u001b[39msin_inv[y]))) \u001b[38;5;28;01mfor\u001b[39;00m y \u001b[38;5;129;01min\u001b[39;00m Y_space]))\n",
      "\u001b[0;31mModuleNotFoundError\u001b[0m: No module named 'module_name'"
     ]
    }
   ],
   "source": [
    "plotEDF(emfToEdf([(y,binomial(n,sin_inv[y])*(p**sin_inv[y])*((1-p)**(n-sin_inv[y]))) for y in Y_space]))"
   ]
  },
  {
   "cell_type": "code",
   "execution_count": null,
   "id": "e697f676-2a4f-4dcd-b16b-d486975d2612",
   "metadata": {},
   "outputs": [],
   "source": []
  }
 ],
 "metadata": {
  "kernelspec": {
   "display_name": "Python 3 (ipykernel)",
   "language": "python",
   "name": "python3"
  },
  "language_info": {
   "codemirror_mode": {
    "name": "ipython",
    "version": 3
   },
   "file_extension": ".py",
   "mimetype": "text/x-python",
   "name": "python",
   "nbconvert_exporter": "python",
   "pygments_lexer": "ipython3",
   "version": "3.10.12"
  },
  "lx_course_instance": "2023",
  "lx_course_name": "Introduction to Data Science",
  "lx_course_number": "1MS041"
 },
 "nbformat": 4,
 "nbformat_minor": 5
}
